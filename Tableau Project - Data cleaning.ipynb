{
 "cells": [
  {
   "cell_type": "code",
   "execution_count": 1,
   "id": "9e96130b-9678-42d1-82eb-d8ee59d51c41",
   "metadata": {},
   "outputs": [],
   "source": [
    "# Importing Necessary Packages\n",
    "import pandas as pd\n",
    "import os\n",
    "import numpy as np\n",
    "os.chdir(r\"C:\\Users\\Prashast\\OneDrive\\Desktop\\Purdue\\Course\\MOD 1\\MGMT 59000V - Visual Analytics\\Project\\Accident Data\\Filtered Data\")"
   ]
  },
  {
   "cell_type": "code",
   "execution_count": 2,
   "id": "e01e352c-780d-4d45-ac87-f43e60bc9533",
   "metadata": {},
   "outputs": [
    {
     "name": "stderr",
     "output_type": "stream",
     "text": [
      "C:\\Users\\Prashast\\AppData\\Local\\Temp\\ipykernel_39060\\4234102592.py:4: DtypeWarning: Columns (1) have mixed types. Specify dtype option on import or set low_memory=False.\n",
      "  df_driver = pd.read_csv(\"Crash_Reporting_-_Drivers_Data.csv\")\n"
     ]
    }
   ],
   "source": [
    "# Treating Driver Data\n",
    "\n",
    "# Reading csv files into pandas dataframe\n",
    "df_driver = pd.read_csv(\"Crash_Reporting_-_Drivers_Data.csv\")\n",
    "# Creating a copy of the dataframe\n",
    "df_driver_new = df_driver\n",
    "# Adding extra column to make it consistent with non motorist data and setting them to be null\n",
    "df_driver_new[['Pedestrian Type','Pedestrian Movement','Pedestrian Actions','Pedestrian Location','Safety Equipment']]=np.nan\n",
    "# Selecting required column only\n",
    "df_driver_final = df_driver_new[['Report Number','Local Case Number','Agency Name','ACRS Report Type','Crash Date/Time','Route Type','Road Name','Cross-Street Name','Off-Road Description','Municipality','Collision Type','Weather','Surface Condition','Light','Traffic Control','Driver Substance Abuse','Driver At Fault','Injury Severity','Driver Distracted By','Drivers License State','Vehicle ID','Vehicle Damage Extent','Vehicle First Impact Location','Vehicle Body Type','Vehicle Movement','Vehicle Going Dir','Speed Limit','Vehicle Year','Vehicle Make','Vehicle Model','Latitude','Longitude','Location','Pedestrian Type','Pedestrian Movement','Pedestrian Actions','Pedestrian Location','Safety Equipment']]\n",
    "# New Column Names and order\n",
    "driver_data_new_columns = ['Report Number','Local Case Number','Agency Name','ACRS Report Type','Crash Date/Time','Route Type','Road Name','Cross-Street Name','Off-Road Description','Municipality','Collision Type','Weather','Surface Condition','Light','Traffic Control','Substance Abuse','At Fault','Injury Severity','Distracted By','License State','Vehicle ID','Vehicle Damage Extent','Vehicle First Impact Location','Vehicle Body Type','Vehicle Movement','Vehicle Going Dir','Speed Limit','Vehicle Year','Vehicle Make','Vehicle Model','Latitude','Longitude','Location','Pedestrian Type','Pedestrian Movement','Pedestrian Actions','Pedestrian Location','Safety Equipment']\n",
    "# Creating final dataset\n",
    "df_driver_final.columns = driver_data_new_columns\n",
    "# Downloading final dataset to a csv\n",
    "df_driver_final.to_csv('driver_data.csv',index = False)"
   ]
  },
  {
   "cell_type": "code",
   "execution_count": 3,
   "id": "883025f4-2f54-4cf8-9b9d-c62e3971f01e",
   "metadata": {},
   "outputs": [],
   "source": [
    "# Treating Non Motorist Data\n",
    "\n",
    "# Reading csv files into pandas dataframe\n",
    "df_non_motorist = pd.read_csv(\"Crash_Reporting_-_Non-Motorists_Data.csv\")\n",
    "# Creating a copy of the dataframe\n",
    "df_non_motorist_new = df_non_motorist\n",
    "# Adding extra column to make it consistent with driver data and setting them to be null\n",
    "df_non_motorist_new[['Driver Distracted By','Drivers License State','Vehicle ID','Vehicle Damage Extent','Vehicle First Impact Location','Vehicle Body Type','Vehicle Movement','Vehicle Going Dir','Speed Limit','Vehicle Year','Vehicle Make','Vehicle Model']]=np.nan\n",
    "# Selecting required column only\n",
    "df_non_motorist_final = df_non_motorist_new[['Report Number','Local Case Number','Agency Name','ACRS Report Type','Crash Date/Time','Route Type','Road Name','Cross-Street Name','Off-Road Description','Municipality','Collision Type','Weather','Surface Condition','Light','Traffic Control','Non-Motorist Substance Abuse','At Fault','Injury Severity','Driver Distracted By','Drivers License State','Vehicle ID','Vehicle Damage Extent','Vehicle First Impact Location','Vehicle Body Type','Vehicle Movement','Vehicle Going Dir','Speed Limit','Vehicle Year','Vehicle Make','Vehicle Model','Latitude','Longitude','Location','Pedestrian Type','Pedestrian Movement','Pedestrian Actions','Pedestrian Location','Safety Equipment']]\n",
    "# New Column Names and order\n",
    "non_motorist_data_new_columns = ['Report Number','Local Case Number','Agency Name','ACRS Report Type','Crash Date/Time','Route Type','Road Name','Cross-Street Name','Off-Road Description','Municipality','Collision Type','Weather','Surface Condition','Light','Traffic Control','Substance Abuse','At Fault','Injury Severity','Distracted By','License State','Vehicle ID','Vehicle Damage Extent','Vehicle First Impact Location','Vehicle Body Type','Vehicle Movement','Vehicle Going Dir','Speed Limit','Vehicle Year','Vehicle Make','Vehicle Model','Latitude','Longitude','Location','Pedestrian Type','Pedestrian Movement','Pedestrian Actions','Pedestrian Location','Safety Equipment']\n",
    "# Creating final dataset\n",
    "df_non_motorist_final.columns = non_motorist_data_new_columns\n",
    "# Downloading final dataset to a csv\n",
    "df_non_motorist_final.to_csv('non_motorist_data.csv',index = False)"
   ]
  },
  {
   "cell_type": "code",
   "execution_count": 4,
   "id": "97c092c7-4d36-4026-9e4c-9f6ca987d2c2",
   "metadata": {},
   "outputs": [
    {
     "name": "stderr",
     "output_type": "stream",
     "text": [
      "C:\\Users\\Prashast\\AppData\\Local\\Temp\\ipykernel_39060\\1776261825.py:4: DtypeWarning: Columns (9,16) have mixed types. Specify dtype option on import or set low_memory=False.\n",
      "  df_incident = pd.read_csv(\"Crash_Reporting_-_Incidents_Data.csv\")\n"
     ]
    }
   ],
   "source": [
    "# Treating Incident Data\n",
    "\n",
    "# Reading csv files into pandas dataframe\n",
    "df_incident = pd.read_csv(\"Crash_Reporting_-_Incidents_Data.csv\")\n",
    "# Getting relevant columns only\n",
    "df_incident_final = df_incident[['Report Number','Hit/Run','Lane Direction','Lane Type','Number of Lanes','Direction','Distance','Road Grade','Road Name','Off-Road Description','First Harmful Event','Second Harmful Event','Junction','Intersection Type','Road Alignment','Road Condition','Road Division']]\n",
    "df_incident_final.to_csv(\"incident_data.csv\",index = False)"
   ]
  },
  {
   "cell_type": "code",
   "execution_count": 6,
   "id": "b5a894b7-daac-49fa-bc96-7c93fcdf0abd",
   "metadata": {},
   "outputs": [],
   "source": [
    "# Treating US Accident data\n",
    "all_accident = pd.read_csv(\"US_Accidents_March23.csv\")\n",
    "all_accident_final = all_accident[['ID','Severity','Start_Time','End_Time','Street','City','County','State','Zipcode']]\n",
    "all_accident_final.to_csv(\"US Accident.csv\",index= False)"
   ]
  },
  {
   "cell_type": "code",
   "execution_count": null,
   "id": "9afb1d98-8905-45ea-8f40-8c136b58e6aa",
   "metadata": {},
   "outputs": [],
   "source": []
  }
 ],
 "metadata": {
  "kernelspec": {
   "display_name": "Python 3 (ipykernel)",
   "language": "python",
   "name": "python3"
  },
  "language_info": {
   "codemirror_mode": {
    "name": "ipython",
    "version": 3
   },
   "file_extension": ".py",
   "mimetype": "text/x-python",
   "name": "python",
   "nbconvert_exporter": "python",
   "pygments_lexer": "ipython3",
   "version": "3.12.4"
  }
 },
 "nbformat": 4,
 "nbformat_minor": 5
}
